{
 "cells": [
  {
   "cell_type": "code",
   "execution_count": 9,
   "metadata": {},
   "outputs": [
    {
     "name": "stdout",
     "output_type": "stream",
     "text": [
      "0.9248035914702581\n",
      "After removing overfitting score is 0.8059477124183004\n",
      "0.8608305274971941\n",
      "After removing overfitting score is 0.8173856209150325\n"
     ]
    }
   ],
   "source": [
    "import pandas as pd\n",
    "import Clean_data\n",
    "from sklearn import linear_model\n",
    "from sklearn import preprocessing\n",
    "from sklearn import tree,model_selection\n",
    "import numpy as np\n",
    "import matplotlib.pyplot as plt\n",
    "\n",
    "train_df = pd.read_csv(\"train.csv\")\n",
    "Clean_data.clean_data(train_df)\n",
    "\n",
    "\n",
    "train_df[\"new_age\"] = np.array(train_df[\"Age\"])\n",
    "n_age = train_df[\"new_age\"]\n",
    "n_age_scaled = preprocessing.scale(nage)\n",
    "n_age_scaled.mean(axis =0 )\n",
    "n_age_scaled.std(axis =0 )\n",
    "train_df[\"new_age\"] = nage_scaled\n",
    "\n",
    "train_df[\"new_fare\"] = np.array(train_df[\"Fare\"])\n",
    "n_fare = train_df[\"new_fare\"]\n",
    "n_fare_scaled = preprocessing.scale(nage)\n",
    "n_fare_scaled.mean(axis =0 )\n",
    "n_fare_scaled.std(axis =0 )\n",
    "train_df[\"new_fare\"] = n_fare_scaled\n",
    "\n",
    "y = train_df[\"Survived\"].values\n",
    "X = train_df[[\"Pclass\",\"new_age\",\"Sex\",\"SibSp\",\"Parch\",\"Embarked\",\"new_fare\"]].values\n",
    "#print(train_df.new_age.values)\n",
    "\n",
    "dc_tree=tree.DecisionTreeClassifier(random_state = 0)\n",
    "dc_ = dc_tree.fit(X,y)\n",
    "print(dc_.score(X,y))\n",
    "\n",
    "score = model_selection.cross_val_score(dc_tree , X,y,scoring='accuracy' , cv=50)\n",
    "print(\"After removing overfitting score is \" + str(score.mean()))\n",
    "\n",
    "\n",
    "dc_tree=tree.DecisionTreeClassifier(random_state = 1 , max_depth =7 , min_samples_split=2)\n",
    "dc_ = dc_tree.fit(X,y)\n",
    "print(dc_.score(X,y))\n",
    "\n",
    "score = model_selection.cross_val_score(dc_tree , X,y,scoring='accuracy' , cv=50)\n",
    "print(\"After removing overfitting score is \" + str(score.mean()))\n",
    "\n"
   ]
  },
  {
   "cell_type": "code",
   "execution_count": null,
   "metadata": {},
   "outputs": [],
   "source": []
  }
 ],
 "metadata": {
  "kernelspec": {
   "display_name": "Python 3",
   "language": "python",
   "name": "python3"
  },
  "language_info": {
   "codemirror_mode": {
    "name": "ipython",
    "version": 3
   },
   "file_extension": ".py",
   "mimetype": "text/x-python",
   "name": "python",
   "nbconvert_exporter": "python",
   "pygments_lexer": "ipython3",
   "version": "3.7.7"
  }
 },
 "nbformat": 4,
 "nbformat_minor": 4
}
