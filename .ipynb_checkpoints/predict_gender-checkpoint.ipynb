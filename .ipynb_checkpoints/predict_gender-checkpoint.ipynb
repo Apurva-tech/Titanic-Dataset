{
 "cells": [
  {
   "cell_type": "code",
   "execution_count": 2,
   "metadata": {},
   "outputs": [
    {
     "name": "stdout",
     "output_type": "stream",
     "text": [
      "1    0.786756\n",
      "0    0.213244\n",
      "Name: Result, dtype: float64\n"
     ]
    }
   ],
   "source": [
    "import pandas as pd\n",
    "train= pd.read_csv(\"train.csv\")\n",
    "train[\"Hyp\"] = 0\n",
    "train.loc[train.Sex == \"female\",\"Hyp\"]=1\n",
    "\n",
    "train[\"Result\"]=0\n",
    "train.loc[train.Survived == train[\"Hyp\"],\"Result\"]=1\n",
    "print( train[\"Result\"].value_counts(normalize  = True))"
   ]
  },
  {
   "cell_type": "code",
   "execution_count": null,
   "metadata": {},
   "outputs": [],
   "source": []
  }
 ],
 "metadata": {
  "kernelspec": {
   "display_name": "Python 3",
   "language": "python",
   "name": "python3"
  },
  "language_info": {
   "codemirror_mode": {
    "name": "ipython",
    "version": 3
   },
   "file_extension": ".py",
   "mimetype": "text/x-python",
   "name": "python",
   "nbconvert_exporter": "python",
   "pygments_lexer": "ipython3",
   "version": "3.7.7"
  }
 },
 "nbformat": 4,
 "nbformat_minor": 4
}
