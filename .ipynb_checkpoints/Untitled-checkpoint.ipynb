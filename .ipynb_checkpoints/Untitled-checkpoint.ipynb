{
 "cells": [
  {
   "cell_type": "code",
   "execution_count": null,
   "metadata": {},
   "outputs": [],
   "source": [
    "import pandas as pd\n",
    "import Clean_data\n",
    "from sklearn import linear_model\n",
    "from sklearn import preprocessing\n",
    "import numpy as np\n",
    "import matplotlib.pyplot as plt\n",
    "\n",
    "#Train Data\n",
    "train_df = pd.read_csv(\"train.csv\")\n",
    "Clean_data.clean_data(train_df)\n",
    "\n",
    "train_df[\"new_age\"] = np.array(train_df[\"Age\"])\n",
    "nage = train_df[\"new_age\"]\n",
    "nage_scaled = preprocessing.scale(nage)\n",
    "nage_scaled.mean(axis =0 )\n",
    "nage_scaled.std(axis =0 )\n",
    "train_df[\"new_age\"] = nage_scaled\n",
    "\n",
    "train_df[\"new_fare\"] = np.array(train_df[\"Fare\"])\n",
    "nage = train_df[\"new_fare\"]\n",
    "nage_scaled = preprocessing.scale(nage)\n",
    "nage_scaled.mean(axis =0 )\n",
    "nage_scaled.std(axis =0 )\n",
    "train_df[\"new_fare\"] = nage_scaled\n",
    "\n",
    "y = train_df[\"Survived\"].values\n",
    "X = train_df[[\"Pclass\",\"new_age\",\"Sex\",\"SibSp\",\"Parch\",\"Embarked\",\"new_fare\"]].values"
   ]
  }
 ],
 "metadata": {
  "kernelspec": {
   "display_name": "Python 3",
   "language": "python",
   "name": "python3"
  },
  "language_info": {
   "codemirror_mode": {
    "name": "ipython",
    "version": 3
   },
   "file_extension": ".py",
   "mimetype": "text/x-python",
   "name": "python",
   "nbconvert_exporter": "python",
   "pygments_lexer": "ipython3",
   "version": "3.7.7"
  }
 },
 "nbformat": 4,
 "nbformat_minor": 4
}
