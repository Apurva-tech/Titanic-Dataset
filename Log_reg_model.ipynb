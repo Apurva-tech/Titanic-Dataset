{
 "cells": [
  {
   "cell_type": "code",
   "execution_count": 1,
   "metadata": {
    "scrolled": true
   },
   "outputs": [
    {
     "name": "stdout",
     "output_type": "stream",
     "text": [
      "(891, 7) \t (891,)\n",
      "0.8013468013468014\n"
     ]
    },
    {
     "data": {
      "image/png": "[encoded data removed]",
      "text/plain": [
       "<Figure size 432x288 with 1 Axes>"
      ]
     },
     "metadata": {
      "needs_background": "light"
     },
     "output_type": "display_data"
    }
   ],
   "source": [
    "import pandas as pd\n",
    "import Clean_data\n",
    "from sklearn import linear_model\n",
    "from sklearn import preprocessing\n",
    "import numpy as np\n",
    "import matplotlib.pyplot as plt\n",
    "\n",
    "train_df = pd.read_csv(\"train.csv\")\n",
    "Clean_data.clean_data(train_df)\n",
    "\n",
    "\n",
    "train_df[\"new_age\"] = np.array(train_df[\"Age\"])\n",
    "nage = train_df[\"new_age\"]\n",
    "nage_scaled = preprocessing.scale(nage)\n",
    "nage_scaled.mean(axis =0 )\n",
    "nage_scaled.std(axis =0 )\n",
    "train_df[\"new_age\"] = nage_scaled\n",
    "\n",
    "train_df[\"new_fare\"] = np.array(train_df[\"Fare\"])\n",
    "nage = train_df[\"new_fare\"]\n",
    "nage_scaled = preprocessing.scale(nage)\n",
    "nage_scaled.mean(axis =0 )\n",
    "nage_scaled.std(axis =0 )\n",
    "train_df[\"new_fare\"] = nage_scaled\n",
    "\n",
    "y = train_df[\"Survived\"].values\n",
    "X = train_df[[\"Pclass\",\"new_age\",\"Sex\",\"SibSp\",\"Parch\",\"Embarked\",\"new_fare\"]].values\n",
    "#print(train_df.new_age.values)\n",
    "\n",
    "#Create classifier\n",
    "LR = linear_model.LogisticRegression()\n",
    "LR_ = LR.fit(X,y)\n",
    "print(X.shape,\"\\t\",y.shape )\n",
    "print(LR_.score(X,y))\n",
    "\n",
    "l=[\"Pclass\",\"Age\",\"Sex\",\"SibSp\",\"Parch\",\"Embarked\",\"new_fare\"]\n",
    "c=['b', 'g', 'r', 'c', 'm', 'y', 'k']\n",
    "for i in range(7):\n",
    "    plt.scatter(train_df[l[i]],y,color=c[i])\n",
    "plt.show()    \n"
   ]
  },
  {
   "cell_type": "code",
   "execution_count": null,
   "metadata": {},
   "outputs": [],
   "source": []
  }
 ],
 "metadata": {
  "kernelspec": {
   "display_name": "Python 3",
   "language": "python",
   "name": "python3"
  },
  "language_info": {
   "codemirror_mode": {
    "name": "ipython",
    "version": 3
   },
   "file_extension": ".py",
   "mimetype": "text/x-python",
   "name": "python",
   "nbconvert_exporter": "python",
   "pygments_lexer": "ipython3",
   "version": "3.7.7"
  }
 },
 "nbformat": 4,
 "nbformat_minor": 4
}
