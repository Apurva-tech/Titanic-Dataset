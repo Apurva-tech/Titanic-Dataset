{
 "cells": [
  {
   "cell_type": "code",
   "execution_count": 27,
   "metadata": {},
   "outputs": [],
   "source": [
    "import pandas as pd\n",
    "import Clean_data\n",
    "from sklearn import linear_model\n",
    "from sklearn import preprocessing\n",
    "import numpy as np\n",
    "import matplotlib.pyplot as plt\n",
    "\n",
    "#Test Data\n",
    "test_df = pd.read_csv(\"test.csv\")\n",
    "Clean_data.clean_data(test_df)\n",
    "\n",
    "test_df[\"new_age\"] = np.array(test_df[\"Age\"])\n",
    "nage = test_df[\"new_age\"]\n",
    "nage_scaled = preprocessing.scale(nage)\n",
    "nage_scaled.mean(axis =0 )\n",
    "nage_scaled.std(axis =0 )\n",
    "test_df[\"new_age\"] = nage_scaled\n",
    "\n",
    "test_df[\"new_fare\"] = np.array(test_df[\"Fare\"])\n",
    "nage = test_df[\"new_fare\"]\n",
    "nage_scaled = preprocessing.scale(nage)\n",
    "nage_scaled.mean(axis =0 )\n",
    "nage_scaled.std(axis =0 )\n",
    "test_df[\"new_fare\"] = nage_scaled\n",
    "\n",
    "\n",
    "X_test = test_df[[\"Pclass\",\"new_age\",\"Sex\",\"SibSp\",\"Parch\",\"Embarked\",\"new_fare\"]].values\n",
    "\n",
    "\n",
    "#Train Data\n",
    "train_df = pd.read_csv(\"train.csv\")\n",
    "Clean_data.clean_data(train_df)\n",
    "\n",
    "train_df[\"new_age\"] = np.array(train_df[\"Age\"])\n",
    "nage = train_df[\"new_age\"]\n",
    "nage_scaled = preprocessing.scale(nage)\n",
    "nage_scaled.mean(axis =0 )\n",
    "nage_scaled.std(axis =0 )\n",
    "train_df[\"new_age\"] = nage_scaled\n",
    "\n",
    "train_df[\"new_fare\"] = np.array(train_df[\"Fare\"])\n",
    "nage = train_df[\"new_fare\"]\n",
    "nage_scaled = preprocessing.scale(nage)\n",
    "nage_scaled.mean(axis =0 )\n",
    "nage_scaled.std(axis =0 )\n",
    "train_df[\"new_fare\"] = nage_scaled\n",
    "\n",
    "y_train = train_df[\"Survived\"].values\n",
    "X_train = train_df[[\"Pclass\",\"new_age\",\"Sex\",\"SibSp\",\"Parch\",\"Embarked\",\"new_fare\"]].values\n",
    "\n",
    "from sklearn.preprocessing import StandardScaler\n",
    "sc = StandardScaler()\n",
    "X_train = sc.fit_transform(X_train)\n",
    "X_test = sc.transform(X_test)\n",
    "\n",
    "\n"
   ]
  },
  {
   "cell_type": "code",
   "execution_count": 28,
   "metadata": {},
   "outputs": [
    {
     "data": {
      "text/plain": [
       "KNeighborsClassifier(algorithm='auto', leaf_size=30, metric='minkowski',\n",
       "                     metric_params=None, n_jobs=None, n_neighbors=5, p=2,\n",
       "                     weights='uniform')"
      ]
     },
     "execution_count": 28,
     "metadata": {},
     "output_type": "execute_result"
    }
   ],
   "source": [
    "# Training the K-NN model on the Training set\n",
    "from sklearn.neighbors import KNeighborsClassifier\n",
    "classifier = KNeighborsClassifier(n_neighbors = 5, metric = 'minkowski', p = 2)\n",
    "classifier.fit(X_train, y_train)"
   ]
  },
  {
   "cell_type": "code",
   "execution_count": 29,
   "metadata": {},
   "outputs": [],
   "source": [
    "y_pred = classifier.predict(X_test)"
   ]
  },
  {
   "cell_type": "code",
   "execution_count": 30,
   "metadata": {},
   "outputs": [
    {
     "name": "stdout",
     "output_type": "stream",
     "text": [
      "0.8574635241301908\n"
     ]
    }
   ],
   "source": [
    "print(classifier.score(X_train,y_train))"
   ]
  },
  {
   "cell_type": "code",
   "execution_count": null,
   "metadata": {},
   "outputs": [],
   "source": []
  }
 ],
 "metadata": {
  "kernelspec": {
   "display_name": "Python 3",
   "language": "python",
   "name": "python3"
  },
  "language_info": {
   "codemirror_mode": {
    "name": "ipython",
    "version": 3
   },
   "file_extension": ".py",
   "mimetype": "text/x-python",
   "name": "python",
   "nbconvert_exporter": "python",
   "pygments_lexer": "ipython3",
   "version": "3.7.7"
  }
 },
 "nbformat": 4,
 "nbformat_minor": 4
}
